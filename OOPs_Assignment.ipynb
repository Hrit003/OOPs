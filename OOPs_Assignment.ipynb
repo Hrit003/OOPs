{
  "nbformat": 4,
  "nbformat_minor": 0,
  "metadata": {
    "colab": {
      "provenance": []
    },
    "kernelspec": {
      "name": "python3",
      "display_name": "Python 3"
    },
    "language_info": {
      "name": "python"
    }
  },
  "cells": [
    {
      "cell_type": "markdown",
      "source": [
        "#Theoritical Questions"
      ],
      "metadata": {
        "id": "pJVgaFK2CEhA"
      }
    },
    {
      "cell_type": "markdown",
      "source": [
        "[1] **What is Object-Oriented Programmimg(OOP)?**\n",
        "\n",
        "=> OOP stands for Object-Oriented Programming. It is a programming paradigm based on the concept of \"objects\" ,which can contain data(fields,also called attributes or properties) and code(methods or functions)."
      ],
      "metadata": {
        "id": "qke77hl2CNqY"
      }
    },
    {
      "cell_type": "markdown",
      "source": [
        "[2] **What is a Class in OOP?**\n",
        "\n",
        "=> A Class is like blueprint for creating objects.\n",
        "\n",
        "Example: A Class Car can define propertoies like color,brand and methods like drive()."
      ],
      "metadata": {
        "id": "kb_KNv-XDZH6"
      }
    },
    {
      "cell_type": "markdown",
      "source": [
        "[3] **What is an Object in OOP?**\n",
        "\n",
        "=> An object is an instance of a class. It has actual values for the properties defined in the class.\n",
        "\n",
        "Example: car1 = Car(\"Red\", \"Toyota\") creates an object of the class Car."
      ],
      "metadata": {
        "id": "zqDNqpMoD87R"
      }
    },
    {
      "cell_type": "markdown",
      "source": [
        "[4] **What is the difference between abstraction and encapsulation?**\n",
        "\n",
        "=> Abstraction and Encapsulation are two fundemental concepts in OOP and while they are related, they are not the same.\n",
        "\n",
        "**Abstraction** is the process of hiding unnecessary details and showing only the essential features of an object. It's main purpose is to reduce complexity and focus only on relevant details.\n",
        "\n",
        "**Encapsulation** is the process of bundling date and methods that operate on that data into a single unit(class) and restricting direct access to some of the object's components. It's main purpose is to project integrity by preventing unauthorized access or modification."
      ],
      "metadata": {
        "id": "Qae_xCe1EsFO"
      }
    },
    {
      "cell_type": "markdown",
      "source": [
        "[5] **What is Dunder Method in Python?**\n",
        "\n",
        "=> Dunder methods(short for Double Underscore) are special built-in methods in Python that have names starting and ending with double underscores,like_init_,_str_,_len_etc.\n",
        "\n",
        "They are also known as:\n",
        "*  Magic Methods\n",
        "*  Special Methods\n",
        "\n",
        "\n",
        "\n"
      ],
      "metadata": {
        "id": "Q0CvZaF7Itu9"
      }
    },
    {
      "cell_type": "markdown",
      "source": [
        "[6] **Explain the concept of inheritance in OOP**\n",
        "\n",
        "=> Inheritance is an OOP feature that allows a class(called the child or subclass) to inherit properties and behaviours (methods) from another class(called the parent or superclass).\n",
        "\n",
        "**Purpose of Using**\n",
        "1. Code Reusability\n",
        "2. Extensibility\n",
        "3. Organized Hierarchies\n",
        "\n"
      ],
      "metadata": {
        "id": "XvoqyO1uHRwh"
      }
    },
    {
      "cell_type": "markdown",
      "source": [
        "[7] **What is polymorphism in OOP?**\n",
        "\n",
        "=> Polymorphism is a core concept in Object-Oriented Programming(OOP) that means \"many forms\".\n",
        "\n",
        "It allows objects of different classes to be treated as objects of a common superclass,especially when they share a common interface or method name, but implement it differently."
      ],
      "metadata": {
        "id": "g5nzhnZdKQ6Q"
      }
    },
    {
      "cell_type": "markdown",
      "source": [
        "[8] **How is encapsulation achieved in Python?**\n",
        "\n",
        "=> Encapsulation in Python is the process of bundling data(variables) and the methods that operate on the data into a single unit-a class-and restricting direct access to some components of that class.\n",
        "\n",
        "**Goals**\n",
        "* Protect internal state of an object.\n",
        "* Control access to data.\n",
        "* Prevent accidental modification.\n",
        "\n",
        "\n",
        "\n",
        "\n"
      ],
      "metadata": {
        "id": "CRRntAH0LNtz"
      }
    },
    {
      "cell_type": "markdown",
      "source": [
        "[9] **What is Constructor in Python?**\n",
        "\n",
        "=> A constructor in Python is a special method that is a special method that is automatically called when a new object of a class is created. It is used to initialize the attributes of the object.\n",
        "\n",
        "__ init __(method)\n",
        "\n",
        "__ init __ stands for \"initialize\"."
      ],
      "metadata": {
        "id": "Y-e8w_poOAZO"
      }
    },
    {
      "cell_type": "markdown",
      "source": [
        "[10] **What are class and static methods in Python?**\n",
        "\n",
        "=> In Python besides regular instance methods, we can also define;\n",
        "\n",
        "**Class Method**\n",
        "* Belongs to the class, not the instance.\n",
        "* Takes cls (not self) as the first argument.\n",
        "* Can access or modify class variables.\n",
        "\n",
        "**Static Method**\n",
        "* Doesn't access self (instance) or clas(class)\n",
        "* Used for general-purpose utility functions related to the class.\n",
        "* Cannot modify class or instance state.\n",
        "\n",
        "\n",
        "\n",
        "\n"
      ],
      "metadata": {
        "id": "UV3bFMrwPJn5"
      }
    },
    {
      "cell_type": "markdown",
      "source": [
        "[11] **What is method overloading in Python?**\n",
        "\n",
        "=> Method Overloading means defining multiple methods in the same class with the same name but different parameters(number or type).\n",
        "\n",
        "This is commonly seen in languages like Java or C++.\n",
        "\n",
        "**But in Python**\n",
        "\n",
        "Python does not support traditional method overloading directly. If you define multiple methods with the same name in a class, only the last one is kept."
      ],
      "metadata": {
        "id": "aBcV-XybRGg4"
      }
    },
    {
      "cell_type": "markdown",
      "source": [
        "[12] **What is method overriding in OOP?**\n",
        "\n",
        "=> Method Overriding is a feature in Object-Oriented Programming(OOP) where a chlid class provides its own version of a method that is already defined in its parent class.\n",
        "\n",
        "In simple terms: the child class \"overriding\" the behaviour of a method inherited from a parent."
      ],
      "metadata": {
        "id": "PxVHBHvuSzxf"
      }
    },
    {
      "cell_type": "markdown",
      "source": [
        "[13] **What is poperty decorator in Python?**\n",
        "\n",
        "=> The property decorator in Python is used to turn a method into a read-only attribute.\n",
        "\n",
        "It allows controlled access to private or computed attributes, while letting you use attribute-style syntax instead odf calling a method."
      ],
      "metadata": {
        "id": "oCzwJ_sUT2Zu"
      }
    },
    {
      "cell_type": "markdown",
      "source": [
        "[14] **Why is polymorphism important in Python?**\n",
        "\n",
        "=> Polymorphism is important in Python and OOP in general because it allows code flexibility,reusability and scalability.\n",
        "\n",
        "Here's why it's crucial:\n",
        "1. Code Reusability and Flexibility\n",
        "2. Promotes Interface Consistency\n",
        "3. Simplifies Code Maintenance\n",
        "4. Enables Operator Overloading\n",
        "5. Supports Method Overriding\n",
        "\n"
      ],
      "metadata": {
        "id": "Ps_o4PkCUjiR"
      }
    },
    {
      "cell_type": "markdown",
      "source": [
        "[15] **What is an abstract class in Python?**\n",
        "\n",
        "=> An abstract class in Python is a class that cannot be instantiated directly and is meant to be a blueprint for other classes. It is used to define common interface or structure for subclasses,while forcing them to implement specific methods.\n",
        "\n",
        "Python provides the abc (Abstract Base Classes) module to define abstract classes."
      ],
      "metadata": {
        "id": "P8ZgoflGV_1o"
      }
    },
    {
      "cell_type": "markdown",
      "source": [
        "[16] **What are advantages of OOP?**\n",
        "\n",
        "=> Here are the major advantages of OOP:\n",
        "\n",
        "\n",
        "\n",
        "1. Modularity\n",
        "2. Reusability\n",
        "3. Encapsulation\n",
        "4. Polymorphism\n",
        "5. Inheritance\n",
        "6. Maintainability and Scalabiliy\n",
        "7. Real-World Mapping\n",
        "\n"
      ],
      "metadata": {
        "id": "T-qUTSs-be6V"
      }
    },
    {
      "cell_type": "markdown",
      "source": [
        "[17] **What is the difference between class variable and instance variable in Python?**\n",
        "\n",
        "=> In Python, the difference between class and instance variables lies in where they are defined and how they are shared among objects.\n",
        "\n",
        "**1. Class Variable**\n",
        "*  Belongs to the class itself.\n",
        "*  Shared by all instances of the class.\n",
        "*  Defined outside any methods, typically at the top of the class body.\n",
        "\n",
        "**2. Instance Variable**\n",
        "*  Belongs to the instance (object).\n",
        "*  Each object has its own copy.\n",
        "*  Defined using self inside the __ init __( ) method or other instance methods.\n",
        "\n",
        "\n",
        "\n"
      ],
      "metadata": {
        "id": "s3LnRpP7Xluq"
      }
    },
    {
      "cell_type": "markdown",
      "source": [
        "[18] **What is multiple inheritance in Python?**\n",
        "\n",
        "=> Multiple Inheritance is a feature in Python where a class can inherit from more than one parent class. This means the child class gets the attributes and methods and methods of all parent classes.\n",
        "\n",
        "**Why Use**\n",
        "*  To reuse functionality from multiple classes.\n",
        "*  To combine behaviours from various sources(mixins).\n",
        "*  To promote code modularity and organizaton.\n",
        "\n",
        "\n"
      ],
      "metadata": {
        "id": "rWMUiLPhZ8Gf"
      }
    },
    {
      "cell_type": "markdown",
      "source": [
        "[19] **Explain the purpose of _ str _( ) and _ repr _( ) methods in Python.**\n",
        "\n",
        "=> In Python , the _ strn _( ) and _ repr _( ) methods are special (dunder) methods that define how an object should be represented as a string. They are specially useful for debugging and displaying objects clearly.\n",
        "\n",
        "**Purpose of _ str _( )**\n",
        "\n",
        "Returns a readable, informal string representation of the object.\n",
        "\n",
        "**Purpose of _ repr _( )**\n",
        "\n",
        "Returns an official, unambiguous string representation of the object.\n"
      ],
      "metadata": {
        "id": "GbcHaZAOdPy7"
      }
    },
    {
      "cell_type": "markdown",
      "source": [
        "[20] **What is the significance of super( ) function in Python?**\n",
        "\n",
        "=> The super( ) function in Python is used to call methods from a parent(super) class in a child class. It is especially useful when working with inheritance, as i allows you to reuse and extend the functionality of the base class without hardcodng the class name.\n",
        "\n",
        "**Why Important**\n",
        "\n",
        "Reusability, Maintability, Supports and Inheritance, Cleaner Code"
      ],
      "metadata": {
        "id": "xqrU2M_ffK66"
      }
    },
    {
      "cell_type": "markdown",
      "source": [
        "[21] **What is the significance of the _ del _( ) method in Python?**\n",
        "\n",
        "=> The _ del _( ) method in Pythod is a special(dunder) ,method known as a destructor. It is automatically called when an object is about to be destroyed, allowing you to clean up resources like files,network connections or memory.\n",
        "\n",
        "**Purpose**\n",
        "\n",
        "\n",
        "\n",
        "* To define clean up behaviour when an object is garbage colected.\n",
        "* Acts as a finalizer before the objectis removed from memory.\n",
        "* Can be used to release external sources.\n",
        "\n"
      ],
      "metadata": {
        "id": "xxH0-Y6egsT8"
      }
    },
    {
      "cell_type": "markdown",
      "source": [
        "[22] **What is the difference between @staticmethod and @classmethod in Python?**\n",
        "\n",
        "=> Both @staticmethod and @classmethod have different behaviour and use-cases.\n",
        "\n",
        "**1. @staticmethod**\n",
        "*  Does Not take self or cls as the fist argument\n",
        "*  Bahaves like a regular function.\n",
        "*  Cannot access or modify class or instance variales.\n",
        "\n",
        "**2. @classmethod**\n",
        "*  Takes cls(class itself0 as the first argument.\n",
        "*  Can access and modify class variables.\n",
        "\n",
        "\n",
        "\n"
      ],
      "metadata": {
        "id": "qPHdBNIfiei7"
      }
    },
    {
      "cell_type": "markdown",
      "source": [
        "[23] **How does polymorphism work in Python with inheritance?**\n",
        "\n",
        "=> Polymorphism means \"many forms\".In Python,polymorphism with Inheritance allows different subclasses to define methods with the same name as in their base class, but with different behaviours. This enables you to use a common inteface for different types of objects.\n",
        "\n",
        "**Example**\n",
        "\n",
        "class Animal:\n",
        "\n",
        "   def speak(self):\n",
        "\n",
        "   return \"Animal makes a sound\"\n",
        "\n",
        "class Dog(Animal):\n",
        "\n",
        "def speak(self):\n",
        "\n",
        "return \"Woof!\"."
      ],
      "metadata": {
        "id": "Y17831FZkIRS"
      }
    },
    {
      "cell_type": "markdown",
      "source": [
        "[24] **What is method chaining in Python OOP?**\n",
        "\n",
        "=> Method chaining is a technique where multiple methods are called on the same object in a single line, one after another. Each method returns the object itself(self), allowing the next method to be called on the result of the previous one.\n",
        "\n",
        "**Key Idea**\n",
        "\n",
        "Each method in the chain must return the object(return self) to allow chaining.\n",
        "\n"
      ],
      "metadata": {
        "id": "IUMm7GOzmBVN"
      }
    },
    {
      "cell_type": "markdown",
      "source": [
        "[25] **What is the purpose of _ call _ ( ) method in Python?**\n",
        "\n",
        "=> The _ call _( ) method in Python allows an instance of a class to be called like a function.\n",
        "\n",
        "In simple words:\n",
        "\n",
        "If a class defines the _ call _( ) method, they you can use its object as if it were a function.\n",
        "\n",
        "**Purpose**\n",
        "*  To make objects callale( like funstions).\n",
        "*  Often used in Functions objects, wrappers and decorators.\n",
        "\n"
      ],
      "metadata": {
        "id": "VdLAGdwNoZQA"
      }
    },
    {
      "cell_type": "markdown",
      "source": [
        "#Practical Questions"
      ],
      "metadata": {
        "id": "m4kbjnFQAn-Z"
      }
    },
    {
      "cell_type": "code",
      "source": [
        "[1] #Create a parent class Animal with a method speak( ) that prints a generic message. Create a child class Dog that overrides the speak() method to print \"Bark!\".\n",
        "# Parent class\n",
        "class Animal:\n",
        "    def speak(self):\n",
        "        print(\"The animal makes a sound.\")\n",
        "\n",
        "# Child class\n",
        "class Dog(Animal):\n",
        "    def speak(self):\n",
        "        print(\"Bark!\")\n",
        "\n",
        "# Example usage\n",
        "a = Animal()\n",
        "a.speak()\n",
        "\n",
        "d = Dog()\n",
        "d.speak()\n",
        "\n",
        "\n",
        "\n"
      ],
      "metadata": {
        "id": "1sxJCqgGD68d",
        "colab": {
          "base_uri": "https://localhost:8080/"
        },
        "outputId": "05882fab-3de4-474c-c4ea-e451d5cda673"
      },
      "execution_count": null,
      "outputs": [
        {
          "output_type": "stream",
          "name": "stdout",
          "text": [
            "The animal makes a sound.\n",
            "Bark!\n"
          ]
        }
      ]
    },
    {
      "cell_type": "code",
      "source": [
        "[2] #Write a program to create an abstract class Shape with a method area(). Derive classes circle and rectangle from it and implement the area() method in both.\n",
        "\n",
        "from abc import ABC, abstractmethod\n",
        "import math\n",
        "\n",
        "# Abstract class\n",
        "class Shape(ABC):\n",
        "    @abstractmethod\n",
        "    def area(self):\n",
        "        pass\n",
        "\n",
        "# Derived class: Circle\n",
        "class Circle(Shape):\n",
        "    def __init__(self, radius):\n",
        "        self.radius = radius\n",
        "\n",
        "    def area(self):\n",
        "        return math.pi * self.radius ** 2\n",
        "\n",
        "# Derived class: Rectangle\n",
        "class Rectangle(Shape):\n",
        "    def __init__(self, length, width):\n",
        "        self.length = length\n",
        "        self.width = width\n",
        "\n",
        "    def area(self):\n",
        "        return self.length * self.width\n",
        "\n",
        "# Example usage\n",
        "c = Circle(5)\n",
        "print(\"Area of Circle:\", c.area())\n",
        "\n",
        "r = Rectangle(4, 6)\n",
        "print(\"Area of Rectangle:\", r.area())\n"
      ],
      "metadata": {
        "colab": {
          "base_uri": "https://localhost:8080/"
        },
        "id": "T6XXGN1GEBeK",
        "outputId": "8185928e-76e1-421c-eb6e-df6ef6591481"
      },
      "execution_count": null,
      "outputs": [
        {
          "output_type": "stream",
          "name": "stdout",
          "text": [
            "Area of Circle: 78.53981633974483\n",
            "Area of Rectangle: 24\n"
          ]
        }
      ]
    },
    {
      "cell_type": "code",
      "source": [
        "[3] #Implement a multi-level inheritance scenario where a class Vehicle has an attribute type. Derive a class Car and further derive a class ElectricCar that adds a battery attribute.\n",
        "\n",
        "# Base class\n",
        "class Vehicle:\n",
        "    def __init__(self, vehicle_type):\n",
        "        self.type = vehicle_type\n",
        "\n",
        "    def display_info(self):\n",
        "        print(f\"Vehicle Type: {self.type}\")\n",
        "\n",
        "# First-level derived class\n",
        "class Car(Vehicle):\n",
        "    def __init__(self, vehicle_type, brand):\n",
        "        super().__init__(vehicle_type)\n",
        "        self.brand = brand\n",
        "\n",
        "    def display_info(self):\n",
        "        super().display_info()\n",
        "        print(f\"Brand: {self.brand}\")\n",
        "\n",
        "# Second-level derived class\n",
        "class ElectricCar(Car):\n",
        "    def __init__(self, vehicle_type, brand, battery_capacity):\n",
        "        super().__init__(vehicle_type, brand)\n",
        "        self.battery = battery_capacity\n",
        "\n",
        "    def display_info(self):\n",
        "        super().display_info()\n",
        "        print(f\"Battery Capacity: {self.battery} kWh\")\n",
        "\n",
        "# Example usage\n",
        "ecar = ElectricCar(\"Four Wheeler\", \"Tata EV\", 60)\n",
        "ecar.display_info()\n"
      ],
      "metadata": {
        "colab": {
          "base_uri": "https://localhost:8080/"
        },
        "id": "F9UfAwi5FRPc",
        "outputId": "90ee4714-cd1f-4c47-cced-0c144e43f2d5"
      },
      "execution_count": null,
      "outputs": [
        {
          "output_type": "stream",
          "name": "stdout",
          "text": [
            "Vehicle Type: Four Wheeler\n",
            "Brand: Tata EV\n",
            "Battery Capacity: 60 kWh\n"
          ]
        }
      ]
    },
    {
      "cell_type": "code",
      "source": [
        "[4] #Demonstrate polymorphism by creating a base class Bird with a method fly(). Create two derived classes Sparrow and Penguin that override fly() method.\n",
        "\n",
        "# Base class\n",
        "class Bird:\n",
        "    def fly(self):\n",
        "        print(\"Some birds can fly.\")\n",
        "\n",
        "# Derived class 1\n",
        "class Sparrow(Bird):\n",
        "    def fly(self):\n",
        "        print(\"Sparrow flies high in the sky.\")\n",
        "\n",
        "# Derived class 2\n",
        "class Penguin(Bird):\n",
        "    def fly(self):\n",
        "        print(\"Penguins cannot fly but they swim well.\")\n",
        "\n",
        "# Function that demonstrates polymorphism\n",
        "def bird_fly_test(bird):\n",
        "    bird.fly()\n",
        "\n",
        "# Example usage\n",
        "b1 = Sparrow()\n",
        "b2 = Penguin()\n",
        "\n",
        "bird_fly_test(b1)\n",
        "bird_fly_test(b2)\n"
      ],
      "metadata": {
        "colab": {
          "base_uri": "https://localhost:8080/"
        },
        "id": "Mv3uwiQRGghf",
        "outputId": "d330115e-be8e-4f5f-d057-85b9193f503b"
      },
      "execution_count": null,
      "outputs": [
        {
          "output_type": "stream",
          "name": "stdout",
          "text": [
            "Sparrow flies high in the sky.\n",
            "Penguins cannot fly but they swim well.\n"
          ]
        }
      ]
    },
    {
      "cell_type": "code",
      "source": [
        "[5] #Write a program to demonstarte encapsulation by creating a class BankAccount with private attributes balance and methods to deposit,withdraw and check balance.\n",
        "\n",
        "class BankAccount:\n",
        "    def __init__(self, initial_balance=0):\n",
        "        self.__balance = initial_balance  # private attribute\n",
        "\n",
        "    def deposit(self, amount):\n",
        "        if amount > 0:\n",
        "            self.__balance += amount\n",
        "            print(f\"Deposited: ₹{amount}\")\n",
        "        else:\n",
        "            print(\"Deposit amount must be positive.\")\n",
        "\n",
        "    def withdraw(self, amount):\n",
        "        if 0 < amount <= self.__balance:\n",
        "            self.__balance -= amount\n",
        "            print(f\"Withdrawn: ₹{amount}\")\n",
        "        else:\n",
        "            print(\"Insufficient balance or invalid amount.\")\n",
        "\n",
        "    def check_balance(self):\n",
        "        print(f\"Current Balance: ₹{self.__balance}\")\n",
        "\n",
        "# Example usage\n",
        "account = BankAccount(10000)\n",
        "account.check_balance()\n",
        "\n",
        "account.deposit(5000)\n",
        "account.check_balance()\n",
        "\n",
        "account.withdraw(2000)\n",
        "account.check_balance()\n",
        "\n",
        "\n"
      ],
      "metadata": {
        "colab": {
          "base_uri": "https://localhost:8080/"
        },
        "id": "zvp5h5QcHVjs",
        "outputId": "13bed29e-62da-4cf4-fbfd-fbad033238b8"
      },
      "execution_count": null,
      "outputs": [
        {
          "output_type": "stream",
          "name": "stdout",
          "text": [
            "Current Balance: ₹10000\n",
            "Deposited: ₹5000\n",
            "Current Balance: ₹15000\n",
            "Withdrawn: ₹2000\n",
            "Current Balance: ₹13000\n"
          ]
        }
      ]
    },
    {
      "cell_type": "code",
      "source": [
        "[6] #Demonstrate runtime polymorphism using a method play() in a base class Instrument. Derive classes Guitar and Piano that implement their own version of play().\n",
        "\n",
        "# Base class\n",
        "class Instrument:\n",
        "    def play(self):\n",
        "        print(\"The instrument is playing.\")\n",
        "\n",
        "# Derived class 1\n",
        "class Guitar(Instrument):\n",
        "    def play(self):\n",
        "        print(\"Strumming the guitar.\")\n",
        "\n",
        "# Derived class 2\n",
        "class Piano(Instrument):\n",
        "    def play(self):\n",
        "        print(\"Playing the piano keys.\")\n",
        "\n",
        "# Function demonstrating runtime polymorphism\n",
        "def perform(instrument):\n",
        "    instrument.play()\n",
        "\n",
        "# Example usage\n",
        "i1 = Guitar()\n",
        "i2 = Piano()\n",
        "\n",
        "perform(i1)\n",
        "perform(i2)\n"
      ],
      "metadata": {
        "colab": {
          "base_uri": "https://localhost:8080/"
        },
        "id": "0Q7E8fsOIlt5",
        "outputId": "9ed9d091-39c1-4271-9f61-377e468afde9"
      },
      "execution_count": null,
      "outputs": [
        {
          "output_type": "stream",
          "name": "stdout",
          "text": [
            "Strumming the guitar.\n",
            "Playing the piano keys.\n"
          ]
        }
      ]
    },
    {
      "cell_type": "code",
      "source": [
        "[7] #Create a class MathOperations with a class method add_numbers() to add two numbers and a static method subtract_numbers() to subtract two numbers.\n",
        "\n",
        "class MathOperations:\n",
        "    @classmethod\n",
        "    def add_numbers(cls, a, b):\n",
        "        return a + b\n",
        "\n",
        "    @staticmethod\n",
        "    def subtract_numbers(a, b):\n",
        "        return a - b\n",
        "\n",
        "# Example usage\n",
        "sum_result = MathOperations.add_numbers(20, 15)\n",
        "print(\"Sum:\", sum_result)\n",
        "\n",
        "difference_result = MathOperations.subtract_numbers(20, 15)\n",
        "print(\"Difference:\", difference_result)\n"
      ],
      "metadata": {
        "colab": {
          "base_uri": "https://localhost:8080/"
        },
        "id": "huJOJ18LJX1f",
        "outputId": "90be3f36-f5f7-4763-c2cb-ec671f333ae3"
      },
      "execution_count": null,
      "outputs": [
        {
          "output_type": "stream",
          "name": "stdout",
          "text": [
            "Sum: 35\n",
            "Difference: 5\n"
          ]
        }
      ]
    },
    {
      "cell_type": "code",
      "source": [
        "[8] #Implement a class Person with a class method to count the total number of persons created.\n",
        "\n",
        "class Person:\n",
        "    count = 0  # Class variable to track number of persons\n",
        "\n",
        "    def __init__(self, name):\n",
        "        self.name = name\n",
        "        Person.count += 1\n",
        "\n",
        "    @classmethod\n",
        "    def total_persons(cls):\n",
        "        return cls.count\n",
        "\n",
        "# Example usage\n",
        "p1 = Person(\"Aline\")\n",
        "p2 = Person(\"Bobie\")\n",
        "p3 = Person(\"Charu\")\n",
        "\n",
        "print(\"Total persons created:\", Person.total_persons())\n"
      ],
      "metadata": {
        "colab": {
          "base_uri": "https://localhost:8080/"
        },
        "id": "n1nH8mziJ-PD",
        "outputId": "2ba3fbb0-b158-4d41-8bf7-c545d250910b"
      },
      "execution_count": null,
      "outputs": [
        {
          "output_type": "stream",
          "name": "stdout",
          "text": [
            "Total persons created: 3\n"
          ]
        }
      ]
    },
    {
      "cell_type": "code",
      "source": [
        "[9] #Write a class Fraction with attributes numerator and denominator. Override the str method to display the fraction as \"numerator/denominator\".\n",
        "\n",
        "class Fraction:\n",
        "    def __init__(self, numerator, denominator):\n",
        "        self.numerator = numerator\n",
        "        self.denominator = denominator\n",
        "\n",
        "    def __str__(self):\n",
        "        return f\"{self.numerator}/{self.denominator}\"\n",
        "\n",
        "# Example usage\n",
        "f1 = Fraction(5, 7)\n",
        "f2 = Fraction(9, 4)\n",
        "\n",
        "print(f1)\n",
        "print(f2)\n"
      ],
      "metadata": {
        "colab": {
          "base_uri": "https://localhost:8080/"
        },
        "id": "JrsFdYWeKYHS",
        "outputId": "83138b15-f82d-4bd2-ec33-ac5b1f722460"
      },
      "execution_count": null,
      "outputs": [
        {
          "output_type": "stream",
          "name": "stdout",
          "text": [
            "5/7\n",
            "9/4\n"
          ]
        }
      ]
    },
    {
      "cell_type": "code",
      "source": [
        "[10] #Demonstrate operator overloading by creating a class Vector and overriding the add method to add two vectors.\n",
        "\n",
        "class Vector:\n",
        "    def __init__(self, x, y):\n",
        "        self.x = x\n",
        "        self.y = y\n",
        "\n",
        "    # Overloading the + operator\n",
        "    def __add__(self, other):\n",
        "        return Vector(self.x + other.x, self.y + other.y)\n",
        "\n",
        "    def __str__(self):\n",
        "        return f\"({self.x}, {self.y})\"\n",
        "\n",
        "# Example usage\n",
        "v1 = Vector(5, 7)\n",
        "v2 = Vector(3, 8)\n",
        "\n",
        "v3 = v1 + v2  # Calls __add__()\n",
        "print(\"v1 + v2 =\", v3)\n"
      ],
      "metadata": {
        "colab": {
          "base_uri": "https://localhost:8080/"
        },
        "id": "tBrEEqwrK3lN",
        "outputId": "267d18be-5c9c-4509-e7e9-9c5da6f22997"
      },
      "execution_count": null,
      "outputs": [
        {
          "output_type": "stream",
          "name": "stdout",
          "text": [
            "v1 + v2 = (8, 15)\n"
          ]
        }
      ]
    },
    {
      "cell_type": "code",
      "source": [
        "[11] #Create a class Person with attributes name and age. Add a method greet() that prints \"Hello, my name is {name} and I am {age} years old.\"\n",
        "\n",
        "class Person:\n",
        "    def __init__(self, name, age):\n",
        "        self.name = name\n",
        "        self.age = age\n",
        "\n",
        "    def greet(self):\n",
        "        print(f\"Hello, my name is {self.name} and I am {self.age} years old.\")\n",
        "\n",
        "person1 = Person(\"Hritesh\", 25)\n",
        "person1.greet()\n",
        "\n",
        "\n",
        "\n"
      ],
      "metadata": {
        "colab": {
          "base_uri": "https://localhost:8080/"
        },
        "id": "PU5sGJlaLZuG",
        "outputId": "d1bfae68-939d-40ad-fdd6-2b6b31f60ffb"
      },
      "execution_count": null,
      "outputs": [
        {
          "output_type": "stream",
          "name": "stdout",
          "text": [
            "Hello, my name is Hritesh and I am 25 years old.\n"
          ]
        }
      ]
    },
    {
      "cell_type": "code",
      "source": [
        "[12] #Implement a class Student with attributes name and grades. Create a method average_grade() to compute the average of the grades.\n",
        "\n",
        "class Student:\n",
        "    def __init__(self, name, grades):\n",
        "        self.name = name\n",
        "        self.grades = grades  # List of grades\n",
        "\n",
        "    def average_grade(self):\n",
        "        if not self.grades:\n",
        "            return 0\n",
        "        return sum(self.grades) / len(self.grades)\n",
        "\n",
        "# Example usage\n",
        "student1 = Student(\"Mandy\", [85, 90, 78])\n",
        "print(f\"{student1.name}'s average grade is: {student1.average_grade()}\")\n"
      ],
      "metadata": {
        "colab": {
          "base_uri": "https://localhost:8080/"
        },
        "id": "uFlcXlkSMDNa",
        "outputId": "0a5b93d5-1c1b-49aa-8a88-8c40da822943"
      },
      "execution_count": null,
      "outputs": [
        {
          "output_type": "stream",
          "name": "stdout",
          "text": [
            "Mandy's average grade is: 84.33333333333333\n"
          ]
        }
      ]
    },
    {
      "cell_type": "code",
      "source": [
        "[13] #Create a class Rectangle with methods set_dimensions() to set the dimensions and area() to calculate the area.\n",
        "\n",
        "class Rectangle:\n",
        "    def __init__(self):\n",
        "        self.length = 0\n",
        "        self.width = 0\n",
        "\n",
        "    def set_dimensions(self, length, width):\n",
        "        self.length = length\n",
        "        self.width = width\n",
        "\n",
        "    def area(self):\n",
        "        return self.length * self.width\n",
        "\n",
        "# Example usage\n",
        "rect = Rectangle()\n",
        "rect.set_dimensions(6, 4)\n",
        "print(\"Area of rectangle:\", rect.area())\n"
      ],
      "metadata": {
        "colab": {
          "base_uri": "https://localhost:8080/"
        },
        "id": "7hAJJNA-Mqh_",
        "outputId": "03d356f5-df0c-4155-af9b-f2d059af609d"
      },
      "execution_count": null,
      "outputs": [
        {
          "output_type": "stream",
          "name": "stdout",
          "text": [
            "Area of rectangle: 24\n"
          ]
        }
      ]
    },
    {
      "cell_type": "code",
      "source": [
        "[14] #Create a class Employee with a method calculate_salary() that computes the salary based on hours worked and hourly rate. Create a derived class Manager that adds a bonus to the salary.\n",
        "\n",
        "class Employee:\n",
        "    def __init__(self, name, hours_worked, hourly_rate):\n",
        "        self.name = name\n",
        "        self.hours_worked = hours_worked\n",
        "        self.hourly_rate = hourly_rate\n",
        "\n",
        "    def calculate_salary(self):\n",
        "        return self.hours_worked * self.hourly_rate\n",
        "\n",
        "\n",
        "class Manager(Employee):\n",
        "    def __init__(self, name, hours_worked, hourly_rate, bonus):\n",
        "        super().__init__(name, hours_worked, hourly_rate)\n",
        "        self.bonus = bonus\n",
        "\n",
        "    def calculate_salary(self):\n",
        "        base_salary = super().calculate_salary()\n",
        "        return base_salary + self.bonus\n",
        "\n",
        "\n",
        "# Example usage\n",
        "emp = Employee(\"John\", 45, 25)\n",
        "print(f\"{emp.name}'s salary: ${emp.calculate_salary()}\")\n",
        "\n",
        "mgr = Manager(\"Amir\", 50, 40, 500)\n",
        "print(f\"{mgr.name}'s salary: ${mgr.calculate_salary()}\")\n"
      ],
      "metadata": {
        "colab": {
          "base_uri": "https://localhost:8080/"
        },
        "id": "TZlOob-MNDqE",
        "outputId": "4c648191-ff3b-4cc0-bae4-e2dda5357fbf"
      },
      "execution_count": null,
      "outputs": [
        {
          "output_type": "stream",
          "name": "stdout",
          "text": [
            "John's salary: $1125\n",
            "Amir's salary: $2500\n"
          ]
        }
      ]
    },
    {
      "cell_type": "code",
      "source": [
        "[15] #Create a class Product with attributes name, price, and quantity. Implement a method total_price() that calculates the total price of the product.\n",
        "\n",
        "class Product:\n",
        "    def __init__(self, name, price, quantity):\n",
        "        self.name = name\n",
        "        self.price = price\n",
        "        self.quantity = quantity\n",
        "\n",
        "    def total_price(self):\n",
        "        return self.price * self.quantity\n",
        "\n",
        "# Example usage\n",
        "product1 = Product(\"Laptop\", 45000, 3)\n",
        "print(f\"Total price for {product1.name}: ₹{product1.total_price()}\")\n"
      ],
      "metadata": {
        "colab": {
          "base_uri": "https://localhost:8080/"
        },
        "id": "QfFkq0x_Nmks",
        "outputId": "a3ee7a6a-6acc-4ba4-d7ec-946625161a69"
      },
      "execution_count": null,
      "outputs": [
        {
          "output_type": "stream",
          "name": "stdout",
          "text": [
            "Total price for Laptop: ₹135000\n"
          ]
        }
      ]
    },
    {
      "cell_type": "code",
      "source": [
        "[16] #Create a class Animal with an abstract method sound(). Create two derived classes Cow and Sheep that implement the sound() method.\n",
        "\n",
        "from abc import ABC, abstractmethod\n",
        "\n",
        "class Animal(ABC):\n",
        "    @abstractmethod\n",
        "    def sound(self):\n",
        "        pass\n",
        "\n",
        "class Cow(Animal):\n",
        "    def sound(self):\n",
        "        return \"Moo\"\n",
        "\n",
        "class Sheep(Animal):\n",
        "    def sound(self):\n",
        "        return \"Baa\"\n",
        "\n",
        "# Example usage\n",
        "cow = Cow()\n",
        "sheep = Sheep()\n",
        "\n",
        "print(\"Cow sound:\", cow.sound())\n",
        "print(\"Sheep sound:\", sheep.sound())\n"
      ],
      "metadata": {
        "colab": {
          "base_uri": "https://localhost:8080/"
        },
        "id": "VZ0B1ooSN4cI",
        "outputId": "773dada7-a555-4843-b400-de30202c7366"
      },
      "execution_count": null,
      "outputs": [
        {
          "output_type": "stream",
          "name": "stdout",
          "text": [
            "Cow sound: Moo\n",
            "Sheep sound: Baa\n"
          ]
        }
      ]
    },
    {
      "cell_type": "code",
      "source": [
        "[17] #Create a class Book with attributes title, author, and year_published. Add a method get_book_info() that returns a formatted string with the book's details.\n",
        "\n",
        "class Book:\n",
        "    def __init__(self, title, author, year_published):\n",
        "        self.title = title\n",
        "        self.author = author\n",
        "        self.year_published = year_published\n",
        "\n",
        "    def get_book_info(self):\n",
        "        return f\"'{self.title}' by {self.author}, published in {self.year_published}\"\n",
        "\n",
        "# Example usage\n",
        "book1 = Book(\"Gitanjali\", \"Rabindranath Tagore\", 1910)\n",
        "print(book1.get_book_info())\n"
      ],
      "metadata": {
        "colab": {
          "base_uri": "https://localhost:8080/"
        },
        "id": "jGwrkdjCOSgz",
        "outputId": "31359a13-5226-4d31-8ba6-d38006bed266"
      },
      "execution_count": null,
      "outputs": [
        {
          "output_type": "stream",
          "name": "stdout",
          "text": [
            "'Gitanjali' by Rabindranath Tagore, published in 1910\n"
          ]
        }
      ]
    },
    {
      "cell_type": "code",
      "source": [
        "[18] #Create a class House with attributes address and price. Create a derived class Mansion that adds an attribute number_of_rooms.\n",
        "\n",
        "class House:\n",
        "    def __init__(self, address, price):\n",
        "        self.address = address\n",
        "        self.price = price\n",
        "\n",
        "    def get_info(self):\n",
        "        return f\"Address: {self.address}, Price: ₹{self.price}\"\n",
        "\n",
        "class Mansion(House):\n",
        "    def __init__(self, address, price, number_of_rooms):\n",
        "        super().__init__(address, price)\n",
        "        self.number_of_rooms = number_of_rooms\n",
        "\n",
        "    def get_info(self):\n",
        "        return f\"Address: {self.address}, Price: ₹{self.price}, Rooms: {self.number_of_rooms}\"\n",
        "\n",
        "# Example usage\n",
        "house = House(\"123 Robin St\", 8500000)\n",
        "print(house.get_info())\n",
        "\n",
        "mansion = Mansion(\"56 Kings Road\", 28000000, 10)\n",
        "print(mansion.get_info())\n"
      ],
      "metadata": {
        "colab": {
          "base_uri": "https://localhost:8080/"
        },
        "id": "twOtnqdjO88f",
        "outputId": "4890a6b8-3b1a-40a3-c901-e73f34777f80"
      },
      "execution_count": null,
      "outputs": [
        {
          "output_type": "stream",
          "name": "stdout",
          "text": [
            "Address: 123 Robin St, Price: ₹8500000\n",
            "Address: 56 Kings Road, Price: ₹28000000, Rooms: 10\n"
          ]
        }
      ]
    }
  ]
}